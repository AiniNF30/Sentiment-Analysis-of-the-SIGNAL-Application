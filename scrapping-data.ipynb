{
  "cells": [
    {
      "cell_type": "markdown",
      "metadata": {},
      "source": [
        "## Scraping Reviews for the Signal App"
      ]
    },
    {
      "cell_type": "code",
      "execution_count": 23,
      "metadata": {},
      "outputs": [
        {
          "name": "stdout",
          "output_type": "stream",
          "text": [
            "Requirement already satisfied: google_play_scraper in /opt/anaconda3/envs/sentimen-analisis/lib/python3.9/site-packages (1.2.7)\n",
            "Note: you may need to restart the kernel to use updated packages.\n"
          ]
        }
      ],
      "source": [
        "pip install google_play_scraper"
      ]
    },
    {
      "cell_type": "code",
      "execution_count": 24,
      "metadata": {},
      "outputs": [],
      "source": [
        "import csv\n",
        "import os\n",
        "import pandas as pd\n",
        "from google_play_scraper import Sort, reviews_all\n",
        "\n",
        "pd.options.mode.chained_assignment = None"
      ]
    },
    {
      "cell_type": "code",
      "execution_count": 25,
      "metadata": {},
      "outputs": [],
      "source": [
        "scrapreview = reviews_all(\n",
        "    'app.signal.id',          # ID aplikasi\n",
        "    lang='id',             # Bahasa ulasan (default: 'en')\n",
        "    country='id',          # Negara (default: 'us')\n",
        "    sort=Sort.MOST_RELEVANT, # Urutan ulasan (default: Sort.MOST_RELEVANT)\n",
        "    count=12000            # Jumlah maksimum ulasan yang ingin diambil\n",
        ")"
      ]
    },
    {
      "cell_type": "code",
      "execution_count": 26,
      "metadata": {},
      "outputs": [],
      "source": [
        "with open('reviews_signal.csv', mode='w', newline='', encoding='utf-8') as file:\n",
        "    writer = csv.writer(file)\n",
        "    writer.writerow(['Review'])\n",
        "    for review in scrapreview:\n",
        "        writer.writerow([review['content']])"
      ]
    },
    {
      "cell_type": "code",
      "execution_count": 27,
      "metadata": {},
      "outputs": [],
      "source": [
        "app_reviews_df = pd.DataFrame(scrapreview)\n",
        "app_reviews_df.shape\n",
        "app_reviews_df.head()\n",
        "app_reviews_df.to_csv('reviews_signal.csv', index=False)\n",
        "\n",
        "# Membuat DataFrame dari hasil scrapreview\n",
        "app_reviews_df = pd.DataFrame(scrapreview)\n",
        "\n",
        "# Menghitung jumlah baris dan kolom dalam DataFrame\n",
        "jumlah_ulasan, jumlah_kolom = app_reviews_df.shape"
      ]
    },
    {
      "cell_type": "code",
      "execution_count": 28,
      "metadata": {},
      "outputs": [
        {
          "data": {
            "text/html": [
              "<div>\n",
              "<style scoped>\n",
              "    .dataframe tbody tr th:only-of-type {\n",
              "        vertical-align: middle;\n",
              "    }\n",
              "\n",
              "    .dataframe tbody tr th {\n",
              "        vertical-align: top;\n",
              "    }\n",
              "\n",
              "    .dataframe thead th {\n",
              "        text-align: right;\n",
              "    }\n",
              "</style>\n",
              "<table border=\"1\" class=\"dataframe\">\n",
              "  <thead>\n",
              "    <tr style=\"text-align: right;\">\n",
              "      <th></th>\n",
              "      <th>reviewId</th>\n",
              "      <th>userName</th>\n",
              "      <th>userImage</th>\n",
              "      <th>content</th>\n",
              "      <th>score</th>\n",
              "      <th>thumbsUpCount</th>\n",
              "      <th>reviewCreatedVersion</th>\n",
              "      <th>at</th>\n",
              "      <th>replyContent</th>\n",
              "      <th>repliedAt</th>\n",
              "      <th>appVersion</th>\n",
              "    </tr>\n",
              "  </thead>\n",
              "  <tbody>\n",
              "    <tr>\n",
              "      <th>0</th>\n",
              "      <td>4fafbc04-ea97-455e-a287-33b937b31c3b</td>\n",
              "      <td>Pengguna Google</td>\n",
              "      <td>https://play-lh.googleusercontent.com/EGemoI2N...</td>\n",
              "      <td>Tampilan aplikasi sudah bagus dan enak dipanda...</td>\n",
              "      <td>2</td>\n",
              "      <td>15</td>\n",
              "      <td>1.5.12</td>\n",
              "      <td>2025-01-28 09:15:05</td>\n",
              "      <td>None</td>\n",
              "      <td>NaT</td>\n",
              "      <td>1.5.12</td>\n",
              "    </tr>\n",
              "    <tr>\n",
              "      <th>1</th>\n",
              "      <td>7fc0d4c4-eb64-4475-b67e-91431fa9ad3d</td>\n",
              "      <td>Pengguna Google</td>\n",
              "      <td>https://play-lh.googleusercontent.com/EGemoI2N...</td>\n",
              "      <td>Dulu mantap. Sekarang sampah. Maaf ya min. Mau...</td>\n",
              "      <td>1</td>\n",
              "      <td>37</td>\n",
              "      <td>1.5.12</td>\n",
              "      <td>2025-02-02 15:47:59</td>\n",
              "      <td>Hai kak, terima kasih atas ulasannya. Terus gu...</td>\n",
              "      <td>2022-04-18 16:38:53</td>\n",
              "      <td>1.5.12</td>\n",
              "    </tr>\n",
              "    <tr>\n",
              "      <th>2</th>\n",
              "      <td>f5d168c3-84e8-456c-b042-30aad0d1b0ee</td>\n",
              "      <td>Pengguna Google</td>\n",
              "      <td>https://play-lh.googleusercontent.com/EGemoI2N...</td>\n",
              "      <td>Tidak ada opsi utk memilih pembayaran dgn bank...</td>\n",
              "      <td>3</td>\n",
              "      <td>20</td>\n",
              "      <td>1.5.12</td>\n",
              "      <td>2025-01-11 15:53:53</td>\n",
              "      <td>None</td>\n",
              "      <td>NaT</td>\n",
              "      <td>1.5.12</td>\n",
              "    </tr>\n",
              "    <tr>\n",
              "      <th>3</th>\n",
              "      <td>cfb09d3b-67ea-4072-a5bb-43e60203f2e2</td>\n",
              "      <td>Pengguna Google</td>\n",
              "      <td>https://play-lh.googleusercontent.com/EGemoI2N...</td>\n",
              "      <td>Mau TAMBAH kendaraan aja ga bisa terus muncul ...</td>\n",
              "      <td>1</td>\n",
              "      <td>34</td>\n",
              "      <td>1.5.12</td>\n",
              "      <td>2025-01-17 07:20:51</td>\n",
              "      <td>None</td>\n",
              "      <td>NaT</td>\n",
              "      <td>1.5.12</td>\n",
              "    </tr>\n",
              "    <tr>\n",
              "      <th>4</th>\n",
              "      <td>bc5b9102-b2b5-4125-a762-e7349dcb2e1a</td>\n",
              "      <td>Pengguna Google</td>\n",
              "      <td>https://play-lh.googleusercontent.com/EGemoI2N...</td>\n",
              "      <td>ketika harus ada maintenace atau gangguan haru...</td>\n",
              "      <td>1</td>\n",
              "      <td>14</td>\n",
              "      <td>1.5.12</td>\n",
              "      <td>2025-01-16 12:13:59</td>\n",
              "      <td>None</td>\n",
              "      <td>NaT</td>\n",
              "      <td>1.5.12</td>\n",
              "    </tr>\n",
              "  </tbody>\n",
              "</table>\n",
              "</div>"
            ],
            "text/plain": [
              "                               reviewId         userName  \\\n",
              "0  4fafbc04-ea97-455e-a287-33b937b31c3b  Pengguna Google   \n",
              "1  7fc0d4c4-eb64-4475-b67e-91431fa9ad3d  Pengguna Google   \n",
              "2  f5d168c3-84e8-456c-b042-30aad0d1b0ee  Pengguna Google   \n",
              "3  cfb09d3b-67ea-4072-a5bb-43e60203f2e2  Pengguna Google   \n",
              "4  bc5b9102-b2b5-4125-a762-e7349dcb2e1a  Pengguna Google   \n",
              "\n",
              "                                           userImage  \\\n",
              "0  https://play-lh.googleusercontent.com/EGemoI2N...   \n",
              "1  https://play-lh.googleusercontent.com/EGemoI2N...   \n",
              "2  https://play-lh.googleusercontent.com/EGemoI2N...   \n",
              "3  https://play-lh.googleusercontent.com/EGemoI2N...   \n",
              "4  https://play-lh.googleusercontent.com/EGemoI2N...   \n",
              "\n",
              "                                             content  score  thumbsUpCount  \\\n",
              "0  Tampilan aplikasi sudah bagus dan enak dipanda...      2             15   \n",
              "1  Dulu mantap. Sekarang sampah. Maaf ya min. Mau...      1             37   \n",
              "2  Tidak ada opsi utk memilih pembayaran dgn bank...      3             20   \n",
              "3  Mau TAMBAH kendaraan aja ga bisa terus muncul ...      1             34   \n",
              "4  ketika harus ada maintenace atau gangguan haru...      1             14   \n",
              "\n",
              "  reviewCreatedVersion                  at  \\\n",
              "0               1.5.12 2025-01-28 09:15:05   \n",
              "1               1.5.12 2025-02-02 15:47:59   \n",
              "2               1.5.12 2025-01-11 15:53:53   \n",
              "3               1.5.12 2025-01-17 07:20:51   \n",
              "4               1.5.12 2025-01-16 12:13:59   \n",
              "\n",
              "                                        replyContent           repliedAt  \\\n",
              "0                                               None                 NaT   \n",
              "1  Hai kak, terima kasih atas ulasannya. Terus gu... 2022-04-18 16:38:53   \n",
              "2                                               None                 NaT   \n",
              "3                                               None                 NaT   \n",
              "4                                               None                 NaT   \n",
              "\n",
              "  appVersion  \n",
              "0     1.5.12  \n",
              "1     1.5.12  \n",
              "2     1.5.12  \n",
              "3     1.5.12  \n",
              "4     1.5.12  "
            ]
          },
          "execution_count": 28,
          "metadata": {},
          "output_type": "execute_result"
        }
      ],
      "source": [
        "app_reviews_df.head()"
      ]
    }
  ],
  "metadata": {
    "colab": {
      "provenance": []
    },
    "kernelspec": {
      "display_name": "sentimen-analisis",
      "language": "python",
      "name": "python3"
    },
    "language_info": {
      "codemirror_mode": {
        "name": "ipython",
        "version": 3
      },
      "file_extension": ".py",
      "mimetype": "text/x-python",
      "name": "python",
      "nbconvert_exporter": "python",
      "pygments_lexer": "ipython3",
      "version": "3.9.18"
    }
  },
  "nbformat": 4,
  "nbformat_minor": 0
}
